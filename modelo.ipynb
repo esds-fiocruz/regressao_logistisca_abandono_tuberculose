{
  "cells": [
    {
      "cell_type": "markdown",
      "metadata": {
        "id": "view-in-github",
        "colab_type": "text"
      },
      "source": [
        "<a href=\"https://colab.research.google.com/github/esds-fiocruz/regressao_logistisca_abandono_tuberculose/blob/main/modelo.ipynb\" target=\"_parent\"><img src=\"https://colab.research.google.com/assets/colab-badge.svg\" alt=\"Open In Colab\"/></a>"
      ]
    },
    {
      "cell_type": "code",
      "execution_count": null,
      "metadata": {
        "id": "wpGOzku2F1DL"
      },
      "outputs": [],
      "source": [
        "#Download das biblioteca do PySUS\n",
        "!pip install pysus\n",
        "!pip install --upgrade openpyxl"
      ]
    },
    {
      "cell_type": "code",
      "source": [
        "#Importação das bibliotecas\n",
        "import os\n",
        "import pandas as pd\n",
        "from statsmodels.stats.outliers_influence import variance_inflation_factor\n",
        "import numpy as np\n",
        "from sklearn.model_selection import train_test_split\n",
        "from sklearn.preprocessing import StandardScaler\n",
        "from sklearn.linear_model import LogisticRegression\n",
        "import statsmodels.formula.api as st\n",
        "import statsmodels.api as sm\n",
        "from imblearn.over_sampling import SMOTE\n",
        "from mlxtend.feature_selection import SequentialFeatureSelector\n",
        "from sklearn import linear_model\n",
        "from pysus.ftp.databases.sinan import SINAN\n",
        "from math import nan\n",
        "from sklearn.impute import KNNImputer\n",
        "from sklearn.experimental import enable_iterative_imputer\n",
        "from sklearn.impute import IterativeImputer\n",
        "from imblearn.under_sampling import RandomUnderSampler\n",
        "\n",
        "import matplotlib.pyplot as plt\n",
        "import seaborn as sns\n",
        "from sklearn.metrics import confusion_matrix\n",
        "from sklearn import metrics\n",
        "from sklearn.metrics import classification_report"
      ],
      "metadata": {
        "id": "HHRuWj53mf_E"
      },
      "execution_count": null,
      "outputs": []
    },
    {
      "cell_type": "code",
      "source": [
        "#Carregando as informações do SINAN\n",
        "sinan = SINAN().load()\n",
        "files = sinan.get_files(dis_code=\"TUBE\", year=[2022, 2021, 2020, 2019])\n",
        "tube_2022, tube_2021 , tube_2020, tube_2019  = files"
      ],
      "metadata": {
        "id": "65MNMoZ3nDIp"
      },
      "execution_count": null,
      "outputs": []
    },
    {
      "cell_type": "code",
      "source": [
        "sinan.describe(tube_2022)"
      ],
      "metadata": {
        "colab": {
          "base_uri": "https://localhost:8080/"
        },
        "id": "hf5wdFTvnUkc",
        "outputId": "b7948154-36ad-4774-d657-2bc747601642"
      },
      "execution_count": null,
      "outputs": [
        {
          "output_type": "execute_result",
          "data": {
            "text/plain": [
              "{'name': 'TUBEBR19.dbc',\n",
              " 'disease': 'Tuberculose',\n",
              " 'year': 2019,\n",
              " 'size': '5.2 MB',\n",
              " 'last_update': '2024-04-22 04:23PM'}"
            ]
          },
          "metadata": {},
          "execution_count": 3
        }
      ]
    },
    {
      "cell_type": "code",
      "source": [
        "#Criando DataFrame\n",
        "df = pd.DataFrame()"
      ],
      "metadata": {
        "id": "_3bRhh5cpXuX"
      },
      "execution_count": null,
      "outputs": []
    },
    {
      "cell_type": "code",
      "source": [
        "# Gerando a estruta de arquivos e obtendo os dados do SINAM\n",
        "lista_tub = [tube_2022, tube_2021, tube_2020, tube_2019]\n",
        "for tub in lista_tub:\n",
        "   nome = str(tub)\n",
        "   ano = nome[6:8]\n",
        "   if not os.path.isfile(f'./TUB_CN/20{ano}/TUB_CN_20{ano}.csv'):\n",
        "      os.makedirs(f\"./TUB_CN/20{ano}\")\n",
        "      parquet = tub.download()\n",
        "      df_new = parquet.to_dataframe()\n",
        "      df_new.to_csv(f'./TUB_CN/20{ano}/TUB_CN_20{ano}.csv', index=False)\n",
        "      df_temp = pd.read_csv(f'./TUB_CN/20{ano}/TUB_CN_20{ano}.csv', index_col=False, low_memory=False)\n",
        "      df = pd.concat([df, df_temp])\n",
        "df.shape"
      ],
      "metadata": {
        "colab": {
          "base_uri": "https://localhost:8080/"
        },
        "id": "96N9gbnrnn-Q",
        "outputId": "d6faa358-6487-4382-ffae-6eacda762bec"
      },
      "execution_count": null,
      "outputs": [
        {
          "output_type": "execute_result",
          "data": {
            "text/plain": [
              "(378297, 97)"
            ]
          },
          "metadata": {},
          "execution_count": 5
        }
      ]
    },
    {
      "cell_type": "markdown",
      "source": [
        "###Limpeza e Tratamento dos Dados"
      ],
      "metadata": {
        "id": "ffQm_lWfMx8V"
      }
    },
    {
      "cell_type": "code",
      "execution_count": null,
      "metadata": {
        "id": "ph3ytyJCO9W9"
      },
      "outputs": [],
      "source": [
        "#### TRATAMENTO DE VARIÁVEIS NÃO UTILIZADAS E NULAS ####\n",
        "df_temp = df.copy()\n",
        "df_temp = df_temp.reset_index(drop=True)\n",
        "columns = ['CS_SEXO', 'NU_IDADE_N', 'CS_RACA', 'CS_ESCOL_N', 'POP_LIBER',\n",
        "       'POP_RUA', 'POP_SAUDE', 'POP_IMIG', 'BENEF_GOV', 'AGRAVDROGA',\n",
        "       'AGRAVALCOO', 'AGRAVTABAC', 'AGRAVDIABE', 'AGRAVDOENC', 'AGRAVOUTRA',\n",
        "       'FORMA', 'HIV', 'TRATSUP_AT', 'SITUA_ENCE']\n",
        "df_temp = df_temp[columns]\n",
        "df_temp = df_temp[df_temp[\"SITUA_ENCE\"].isin([1,2,3])]\n",
        "df_temp = df_temp.reset_index(drop=True)\n",
        "\n",
        "#### SEXO #####\n",
        "df_geral = df_temp.copy()\n",
        "df_geral.replace({\"CS_SEXO\": {\"F\": 1, \"M\": 2, \"I\":nan}}, inplace=True)\n",
        "df_geral['CS_SEXO'] = df_geral['CS_SEXO'].astype('float')\n",
        "\n",
        "### IDADE ###\n",
        "df_geral[\"NU_IDADE_N\"] = pd.cut(df_geral[\"NU_IDADE_N\"],\n",
        "                                  bins=[-np.inf, 4019, 4039, 4059, np.inf],\n",
        "                                  labels=[1, 2, 3, 4])\n",
        "### RAÇA ###\n",
        "df_geral.replace({\"CS_RACA\": {9:nan}}, inplace=True)\n",
        "df_geral[\"CS_RACA\"] = np.where(df_geral[\"CS_RACA\"].between(2,5), 2, df_geral[\"CS_RACA\"])\n",
        "\n",
        "### ESCOLARIDADE ###\n",
        "df_geral.replace({\"CS_ESCOL_N\": {9:nan, 10:nan}}, inplace=True)\n",
        "df_geral[\"CS_ESCOL_N\"] = pd.cut(df_geral[\"CS_ESCOL_N\"], bins=[-np.inf, 0, 4,8,9,np.inf],\n",
        "                                  labels=[1,2,3,4,5])\n",
        "df_geral.replace({\"CS_ESCOL_N\": {4:nan, 5:nan}}, inplace=True)\n",
        "\n",
        "### PRISIONEIROS ####\n",
        "df_geral.replace({\"POP_LIBER\": {9:nan}}, inplace=True)\n",
        "\n",
        "### POP_RUA ####\n",
        "df_geral.replace({\"POP_RUA\": {9:nan}}, inplace=True)\n",
        "\n",
        "### POP_SAUDE ####\n",
        "df_geral.replace({\"POP_SAUDE\": {9:nan}}, inplace=True)\n",
        "\n",
        "### POP_IMIG ####\n",
        "df_geral.replace({\"POP_IMIG\": {9:nan, 3:nan}}, inplace=True)\n",
        "\n",
        "### BENEF_GOV ####\n",
        "df_geral.replace({\"BENEF_GOV\": {9:nan, 3:nan, 4:nan, 5:nan, 7:nan, 8:nan}}, inplace=True)\n",
        "\n",
        "### DROGRAS ILÍCITAS ###\n",
        "df_geral.replace({\"AGRAVDROGA\": {9:nan}}, inplace=True)\n",
        "\n",
        "### TABACO ###\n",
        "df_geral.replace({\"AGRAVTABAC\": {9:nan}}, inplace=True)\n",
        "\n",
        "### Alcoolismo ###\n",
        "df_geral.replace({\"AGRAVALCOO\": {9:nan}}, inplace=True)\n",
        "\n",
        "### DIABETES ###\n",
        "df_geral.replace({\"AGRAVDIABE\": {9:nan}}, inplace=True)\n",
        "\n",
        "### DOENCAS MENTAIS ###\n",
        "df_geral.replace({\"AGRAVDOENC\": {9:nan}}, inplace=True)\n",
        "\n",
        "### Outras Doenças ###\n",
        "df_geral.replace({\"AGRAVOUTRA\": {9:nan}}, inplace=True)\n",
        "\n",
        "### FORMAS ####\n",
        "\n",
        "### HIV ###\n",
        "df_geral.replace({\"HIV\": {4:nan,}}, inplace=True)\n",
        "\n",
        "### SUPERVISIONADO ###\n",
        "df_geral.replace({\"TRATSUP_AT\": {9:nan,}}, inplace=True)\n",
        "\n",
        "df_aux = df_geral.copy()"
      ]
    },
    {
      "cell_type": "code",
      "source": [
        "df_geral = df_geral.dropna()\n",
        "df_geral.reset_index(drop=True, inplace=True)\n",
        "df_geral.shape"
      ],
      "metadata": {
        "colab": {
          "base_uri": "https://localhost:8080/"
        },
        "id": "49mbsGpuu2IS",
        "outputId": "0e49faa8-171a-48de-848b-1bade8e70913"
      },
      "execution_count": null,
      "outputs": [
        {
          "output_type": "execute_result",
          "data": {
            "text/plain": [
              "(79929, 19)"
            ]
          },
          "metadata": {},
          "execution_count": 8
        }
      ]
    },
    {
      "cell_type": "markdown",
      "source": [
        "###Conversão do Dataframe para variáveis dummies\n",
        "\n",
        "\n",
        "https://stats.oarc.ucla.edu/wp-content/uploads/2016/02/p046.pdf\n"
      ],
      "metadata": {
        "id": "yYqB7QHbOLuV"
      }
    },
    {
      "cell_type": "code",
      "execution_count": null,
      "metadata": {
        "id": "rBMSauXCBAJH"
      },
      "outputs": [],
      "source": [
        "#Criando variáveis Dummies\n",
        "def convert_in_dummies(df_aux, column ,new_columns, drop_column_name,):\n",
        "    df_temp = pd.get_dummies(df_aux[column], dtype=int)\n",
        "    df_temp.rename(columns=new_columns, inplace=True)\n",
        "    df_temp.drop(columns=[drop_column_name], inplace=True)\n",
        "    df_aux = pd.concat([df_aux, df_temp], axis=1)\n",
        "    df_aux.drop(columns=[column], inplace=True)\n",
        "    return df_aux"
      ]
    },
    {
      "cell_type": "code",
      "execution_count": null,
      "metadata": {
        "id": "zqKLIwDfa-Hf"
      },
      "outputs": [],
      "source": [
        "df_geral = convert_in_dummies(df_geral, \"CS_SEXO\", {2:\"MASCULINO\", 1:\"FEMININO\"}, \"FEMININO\")\n",
        "df_geral = convert_in_dummies(df_geral, \"NU_IDADE_N\", {1: \"<=19\", 2: \"20_39\", 3:\"40_59\", 4:\"60+\"}, \"<=19\")\n",
        "df_geral = convert_in_dummies(df_geral, \"CS_RACA\", {1: \"BRANCO\", 2:\"NÃO_BRANCO\"}, \"BRANCO\")\n",
        "df_geral = convert_in_dummies(df_geral, \"CS_ESCOL_N\",{1: \"SEM_ESCOLARIDADE\", 2: \"<=8_ANOS\", 3:\">8_ANOS\"}, \">8_ANOS\")\n",
        "df_geral = convert_in_dummies(df_geral, \"POP_LIBER\", {1:\"PRISIONEIRO\", 2:\"NÃO_PRISIONEIRO\"}, \"NÃO_PRISIONEIRO\")\n",
        "df_geral = convert_in_dummies(df_geral, \"POP_RUA\", {1:\"MORADOR_DE_RUA\", 2:\"NÃO_MORADOR_DE_RUA\"}, \"NÃO_MORADOR_DE_RUA\")\n",
        "df_geral = convert_in_dummies(df_geral,\"POP_SAUDE\", {1:\"PROFISSIONAL_DA_SAUDE\", 2:\"NÃO_PROFISSIONAL_DA_SAUDE\"}, \"NÃO_PROFISSIONAL_DA_SAUDE\")\n",
        "df_geral = convert_in_dummies(df_geral,\"POP_IMIG\", {1:\"IMIGRANTE\", 2:\"NÃO_IMIGRANTE\"}, \"NÃO_IMIGRANTE\")\n",
        "df_geral = convert_in_dummies(df_geral,\"BENEF_GOV\", {1:\"BENEFICIARIO\", 2:\"NÃO_BENEFICIARIO\"}, \"NÃO_BENEFICIARIO\")\n",
        "df_geral = convert_in_dummies(df_geral,\"AGRAVDROGA\", {1:\"DROGAS_ILICITAS\", 2:\"NÃO_DROGAS_ILICITAS\"}, \"NÃO_DROGAS_ILICITAS\")\n",
        "df_geral = convert_in_dummies(df_geral,\"AGRAVALCOO\", {1:\"ALCOOL\", 2:\"NÃO_ALCOOL\"}, \"NÃO_ALCOOL\")\n",
        "df_geral = convert_in_dummies(df_geral,\"AGRAVTABAC\", {1:\"TABACO\", 2:\"NÃO_TABACO\"}, \"NÃO_TABACO\")\n",
        "df_geral = convert_in_dummies(df_geral,\"AGRAVDIABE\", {1:\"DIABETES\", 2:\"NÃO_DIABETES\"}, \"NÃO_DIABETES\")\n",
        "df_geral = convert_in_dummies(df_geral,\"AGRAVDOENC\", {1:\"MENTAL\", 2:\"NÃO_MENTAL\"}, \"NÃO_MENTAL\")\n",
        "df_geral = convert_in_dummies(df_geral,\"AGRAVOUTRA\", {1:\"OUTRAS_DOENCAS\", 2:\"NÃO_OUTRAS_DOENCAS\"}, \"NÃO_OUTRAS_DOENCAS\")\n",
        "df_geral = convert_in_dummies(df_geral,\"FORMA\", {1: \"PULMONAR\", 2: \"EXTRA_PULMONAR\", 3:\"PULMONAR_EXTRA_PULMONAR\"}, \"PULMONAR\")\n",
        "df_geral = convert_in_dummies(df_geral,\"HIV\", {1: \"HIV_POSITIVO\", 2: \"HIV_NEGATIVO\", 3:\"HIV_EM_ANDAMENTO\"}, \"HIV_NEGATIVO\")\n",
        "df_geral = convert_in_dummies(df_geral,\"TRATSUP_AT\", {1:\"SUPERVISIONADO\", 2:\"NÃO_SUPERVISIONADO\"}, \"NÃO_SUPERVISIONADO\")\n",
        "df_geral = convert_in_dummies(df_geral,\"SITUA_ENCE\", {1:\"NÃO_ABANDONO\", 2:\"ABANDONO\", 3:\"NÃO_ABANDONO\"}, \"NÃO_ABANDONO\")"
      ]
    },
    {
      "cell_type": "code",
      "execution_count": null,
      "metadata": {
        "colab": {
          "base_uri": "https://localhost:8080/"
        },
        "id": "6oVEm2hBN1_S",
        "outputId": "49be9a20-d293-482e-b149-c16b0861845c"
      },
      "outputs": [
        {
          "output_type": "execute_result",
          "data": {
            "text/plain": [
              "Index(['MASCULINO', '20_39', '40_59', '60+', 'NÃO_BRANCO', 'SEM_ESCOLARIDADE',\n",
              "       '<=8_ANOS', 'PRISIONEIRO', 'MORADOR_DE_RUA', 'PROFISSIONAL_DA_SAUDE',\n",
              "       'IMIGRANTE', 'BENEFICIARIO', 'DROGAS_ILICITAS', 'ALCOOL', 'TABACO',\n",
              "       'DIABETES', 'MENTAL', 'OUTRAS_DOENCAS', 'EXTRA_PULMONAR',\n",
              "       'PULMONAR_EXTRA_PULMONAR', 'HIV_POSITIVO', 'HIV_EM_ANDAMENTO',\n",
              "       'SUPERVISIONADO', 'ABANDONO'],\n",
              "      dtype='object')"
            ]
          },
          "metadata": {},
          "execution_count": 10
        }
      ],
      "source": [
        "#Variáveis Dummies\n",
        "df_geral.columns"
      ]
    },
    {
      "cell_type": "code",
      "source": [
        "df_geral.head()"
      ],
      "metadata": {
        "colab": {
          "base_uri": "https://localhost:8080/",
          "height": 256
        },
        "id": "rQmqy7GevVWS",
        "outputId": "ca87cee6-888f-44c0-bf80-15d98d3e1c42"
      },
      "execution_count": null,
      "outputs": [
        {
          "output_type": "execute_result",
          "data": {
            "text/plain": [
              "   MASCULINO  20_39  40_59  60+  NÃO_BRANCO  SEM_ESCOLARIDADE  <=8_ANOS  \\\n",
              "0          1      1      0    0           1                 0         1   \n",
              "1          0      0      0    1           1                 0         1   \n",
              "2          1      1      0    0           1                 0         0   \n",
              "3          1      1      0    0           1                 0         0   \n",
              "4          0      1      0    0           1                 0         1   \n",
              "\n",
              "   PRISIONEIRO  MORADOR_DE_RUA  PROFISSIONAL_DA_SAUDE  ...  TABACO  DIABETES  \\\n",
              "0            1               0                      0  ...       1         0   \n",
              "1            0               0                      0  ...       0         0   \n",
              "2            0               0                      1  ...       1         0   \n",
              "3            0               0                      0  ...       1         0   \n",
              "4            0               0                      0  ...       0         0   \n",
              "\n",
              "   MENTAL  OUTRAS_DOENCAS  EXTRA_PULMONAR  PULMONAR_EXTRA_PULMONAR  \\\n",
              "0       0               0               0                        0   \n",
              "1       0               0               0                        0   \n",
              "2       0               0               0                        0   \n",
              "3       0               0               0                        0   \n",
              "4       0               0               0                        1   \n",
              "\n",
              "   HIV_POSITIVO  HIV_EM_ANDAMENTO  SUPERVISIONADO  ABANDONO  \n",
              "0             0                 0               1         1  \n",
              "1             0                 1               1         0  \n",
              "2             1                 0               0         0  \n",
              "3             0                 0               0         0  \n",
              "4             1                 0               0         0  \n",
              "\n",
              "[5 rows x 24 columns]"
            ],
            "text/html": [
              "\n",
              "  <div id=\"df-f1900758-3869-4a8d-8a7f-2d48917bb4ee\" class=\"colab-df-container\">\n",
              "    <div>\n",
              "<style scoped>\n",
              "    .dataframe tbody tr th:only-of-type {\n",
              "        vertical-align: middle;\n",
              "    }\n",
              "\n",
              "    .dataframe tbody tr th {\n",
              "        vertical-align: top;\n",
              "    }\n",
              "\n",
              "    .dataframe thead th {\n",
              "        text-align: right;\n",
              "    }\n",
              "</style>\n",
              "<table border=\"1\" class=\"dataframe\">\n",
              "  <thead>\n",
              "    <tr style=\"text-align: right;\">\n",
              "      <th></th>\n",
              "      <th>MASCULINO</th>\n",
              "      <th>20_39</th>\n",
              "      <th>40_59</th>\n",
              "      <th>60+</th>\n",
              "      <th>NÃO_BRANCO</th>\n",
              "      <th>SEM_ESCOLARIDADE</th>\n",
              "      <th>&lt;=8_ANOS</th>\n",
              "      <th>PRISIONEIRO</th>\n",
              "      <th>MORADOR_DE_RUA</th>\n",
              "      <th>PROFISSIONAL_DA_SAUDE</th>\n",
              "      <th>...</th>\n",
              "      <th>TABACO</th>\n",
              "      <th>DIABETES</th>\n",
              "      <th>MENTAL</th>\n",
              "      <th>OUTRAS_DOENCAS</th>\n",
              "      <th>EXTRA_PULMONAR</th>\n",
              "      <th>PULMONAR_EXTRA_PULMONAR</th>\n",
              "      <th>HIV_POSITIVO</th>\n",
              "      <th>HIV_EM_ANDAMENTO</th>\n",
              "      <th>SUPERVISIONADO</th>\n",
              "      <th>ABANDONO</th>\n",
              "    </tr>\n",
              "  </thead>\n",
              "  <tbody>\n",
              "    <tr>\n",
              "      <th>0</th>\n",
              "      <td>1</td>\n",
              "      <td>1</td>\n",
              "      <td>0</td>\n",
              "      <td>0</td>\n",
              "      <td>1</td>\n",
              "      <td>0</td>\n",
              "      <td>1</td>\n",
              "      <td>1</td>\n",
              "      <td>0</td>\n",
              "      <td>0</td>\n",
              "      <td>...</td>\n",
              "      <td>1</td>\n",
              "      <td>0</td>\n",
              "      <td>0</td>\n",
              "      <td>0</td>\n",
              "      <td>0</td>\n",
              "      <td>0</td>\n",
              "      <td>0</td>\n",
              "      <td>0</td>\n",
              "      <td>1</td>\n",
              "      <td>1</td>\n",
              "    </tr>\n",
              "    <tr>\n",
              "      <th>1</th>\n",
              "      <td>0</td>\n",
              "      <td>0</td>\n",
              "      <td>0</td>\n",
              "      <td>1</td>\n",
              "      <td>1</td>\n",
              "      <td>0</td>\n",
              "      <td>1</td>\n",
              "      <td>0</td>\n",
              "      <td>0</td>\n",
              "      <td>0</td>\n",
              "      <td>...</td>\n",
              "      <td>0</td>\n",
              "      <td>0</td>\n",
              "      <td>0</td>\n",
              "      <td>0</td>\n",
              "      <td>0</td>\n",
              "      <td>0</td>\n",
              "      <td>0</td>\n",
              "      <td>1</td>\n",
              "      <td>1</td>\n",
              "      <td>0</td>\n",
              "    </tr>\n",
              "    <tr>\n",
              "      <th>2</th>\n",
              "      <td>1</td>\n",
              "      <td>1</td>\n",
              "      <td>0</td>\n",
              "      <td>0</td>\n",
              "      <td>1</td>\n",
              "      <td>0</td>\n",
              "      <td>0</td>\n",
              "      <td>0</td>\n",
              "      <td>0</td>\n",
              "      <td>1</td>\n",
              "      <td>...</td>\n",
              "      <td>1</td>\n",
              "      <td>0</td>\n",
              "      <td>0</td>\n",
              "      <td>0</td>\n",
              "      <td>0</td>\n",
              "      <td>0</td>\n",
              "      <td>1</td>\n",
              "      <td>0</td>\n",
              "      <td>0</td>\n",
              "      <td>0</td>\n",
              "    </tr>\n",
              "    <tr>\n",
              "      <th>3</th>\n",
              "      <td>1</td>\n",
              "      <td>1</td>\n",
              "      <td>0</td>\n",
              "      <td>0</td>\n",
              "      <td>1</td>\n",
              "      <td>0</td>\n",
              "      <td>0</td>\n",
              "      <td>0</td>\n",
              "      <td>0</td>\n",
              "      <td>0</td>\n",
              "      <td>...</td>\n",
              "      <td>1</td>\n",
              "      <td>0</td>\n",
              "      <td>0</td>\n",
              "      <td>0</td>\n",
              "      <td>0</td>\n",
              "      <td>0</td>\n",
              "      <td>0</td>\n",
              "      <td>0</td>\n",
              "      <td>0</td>\n",
              "      <td>0</td>\n",
              "    </tr>\n",
              "    <tr>\n",
              "      <th>4</th>\n",
              "      <td>0</td>\n",
              "      <td>1</td>\n",
              "      <td>0</td>\n",
              "      <td>0</td>\n",
              "      <td>1</td>\n",
              "      <td>0</td>\n",
              "      <td>1</td>\n",
              "      <td>0</td>\n",
              "      <td>0</td>\n",
              "      <td>0</td>\n",
              "      <td>...</td>\n",
              "      <td>0</td>\n",
              "      <td>0</td>\n",
              "      <td>0</td>\n",
              "      <td>0</td>\n",
              "      <td>0</td>\n",
              "      <td>1</td>\n",
              "      <td>1</td>\n",
              "      <td>0</td>\n",
              "      <td>0</td>\n",
              "      <td>0</td>\n",
              "    </tr>\n",
              "  </tbody>\n",
              "</table>\n",
              "<p>5 rows × 24 columns</p>\n",
              "</div>\n",
              "    <div class=\"colab-df-buttons\">\n",
              "\n",
              "  <div class=\"colab-df-container\">\n",
              "    <button class=\"colab-df-convert\" onclick=\"convertToInteractive('df-f1900758-3869-4a8d-8a7f-2d48917bb4ee')\"\n",
              "            title=\"Convert this dataframe to an interactive table.\"\n",
              "            style=\"display:none;\">\n",
              "\n",
              "  <svg xmlns=\"http://www.w3.org/2000/svg\" height=\"24px\" viewBox=\"0 -960 960 960\">\n",
              "    <path d=\"M120-120v-720h720v720H120Zm60-500h600v-160H180v160Zm220 220h160v-160H400v160Zm0 220h160v-160H400v160ZM180-400h160v-160H180v160Zm440 0h160v-160H620v160ZM180-180h160v-160H180v160Zm440 0h160v-160H620v160Z\"/>\n",
              "  </svg>\n",
              "    </button>\n",
              "\n",
              "  <style>\n",
              "    .colab-df-container {\n",
              "      display:flex;\n",
              "      gap: 12px;\n",
              "    }\n",
              "\n",
              "    .colab-df-convert {\n",
              "      background-color: #E8F0FE;\n",
              "      border: none;\n",
              "      border-radius: 50%;\n",
              "      cursor: pointer;\n",
              "      display: none;\n",
              "      fill: #1967D2;\n",
              "      height: 32px;\n",
              "      padding: 0 0 0 0;\n",
              "      width: 32px;\n",
              "    }\n",
              "\n",
              "    .colab-df-convert:hover {\n",
              "      background-color: #E2EBFA;\n",
              "      box-shadow: 0px 1px 2px rgba(60, 64, 67, 0.3), 0px 1px 3px 1px rgba(60, 64, 67, 0.15);\n",
              "      fill: #174EA6;\n",
              "    }\n",
              "\n",
              "    .colab-df-buttons div {\n",
              "      margin-bottom: 4px;\n",
              "    }\n",
              "\n",
              "    [theme=dark] .colab-df-convert {\n",
              "      background-color: #3B4455;\n",
              "      fill: #D2E3FC;\n",
              "    }\n",
              "\n",
              "    [theme=dark] .colab-df-convert:hover {\n",
              "      background-color: #434B5C;\n",
              "      box-shadow: 0px 1px 3px 1px rgba(0, 0, 0, 0.15);\n",
              "      filter: drop-shadow(0px 1px 2px rgba(0, 0, 0, 0.3));\n",
              "      fill: #FFFFFF;\n",
              "    }\n",
              "  </style>\n",
              "\n",
              "    <script>\n",
              "      const buttonEl =\n",
              "        document.querySelector('#df-f1900758-3869-4a8d-8a7f-2d48917bb4ee button.colab-df-convert');\n",
              "      buttonEl.style.display =\n",
              "        google.colab.kernel.accessAllowed ? 'block' : 'none';\n",
              "\n",
              "      async function convertToInteractive(key) {\n",
              "        const element = document.querySelector('#df-f1900758-3869-4a8d-8a7f-2d48917bb4ee');\n",
              "        const dataTable =\n",
              "          await google.colab.kernel.invokeFunction('convertToInteractive',\n",
              "                                                    [key], {});\n",
              "        if (!dataTable) return;\n",
              "\n",
              "        const docLinkHtml = 'Like what you see? Visit the ' +\n",
              "          '<a target=\"_blank\" href=https://colab.research.google.com/notebooks/data_table.ipynb>data table notebook</a>'\n",
              "          + ' to learn more about interactive tables.';\n",
              "        element.innerHTML = '';\n",
              "        dataTable['output_type'] = 'display_data';\n",
              "        await google.colab.output.renderOutput(dataTable, element);\n",
              "        const docLink = document.createElement('div');\n",
              "        docLink.innerHTML = docLinkHtml;\n",
              "        element.appendChild(docLink);\n",
              "      }\n",
              "    </script>\n",
              "  </div>\n",
              "\n",
              "\n",
              "<div id=\"df-332cac0b-716e-4d23-8434-6ed711eaf139\">\n",
              "  <button class=\"colab-df-quickchart\" onclick=\"quickchart('df-332cac0b-716e-4d23-8434-6ed711eaf139')\"\n",
              "            title=\"Suggest charts\"\n",
              "            style=\"display:none;\">\n",
              "\n",
              "<svg xmlns=\"http://www.w3.org/2000/svg\" height=\"24px\"viewBox=\"0 0 24 24\"\n",
              "     width=\"24px\">\n",
              "    <g>\n",
              "        <path d=\"M19 3H5c-1.1 0-2 .9-2 2v14c0 1.1.9 2 2 2h14c1.1 0 2-.9 2-2V5c0-1.1-.9-2-2-2zM9 17H7v-7h2v7zm4 0h-2V7h2v10zm4 0h-2v-4h2v4z\"/>\n",
              "    </g>\n",
              "</svg>\n",
              "  </button>\n",
              "\n",
              "<style>\n",
              "  .colab-df-quickchart {\n",
              "      --bg-color: #E8F0FE;\n",
              "      --fill-color: #1967D2;\n",
              "      --hover-bg-color: #E2EBFA;\n",
              "      --hover-fill-color: #174EA6;\n",
              "      --disabled-fill-color: #AAA;\n",
              "      --disabled-bg-color: #DDD;\n",
              "  }\n",
              "\n",
              "  [theme=dark] .colab-df-quickchart {\n",
              "      --bg-color: #3B4455;\n",
              "      --fill-color: #D2E3FC;\n",
              "      --hover-bg-color: #434B5C;\n",
              "      --hover-fill-color: #FFFFFF;\n",
              "      --disabled-bg-color: #3B4455;\n",
              "      --disabled-fill-color: #666;\n",
              "  }\n",
              "\n",
              "  .colab-df-quickchart {\n",
              "    background-color: var(--bg-color);\n",
              "    border: none;\n",
              "    border-radius: 50%;\n",
              "    cursor: pointer;\n",
              "    display: none;\n",
              "    fill: var(--fill-color);\n",
              "    height: 32px;\n",
              "    padding: 0;\n",
              "    width: 32px;\n",
              "  }\n",
              "\n",
              "  .colab-df-quickchart:hover {\n",
              "    background-color: var(--hover-bg-color);\n",
              "    box-shadow: 0 1px 2px rgba(60, 64, 67, 0.3), 0 1px 3px 1px rgba(60, 64, 67, 0.15);\n",
              "    fill: var(--button-hover-fill-color);\n",
              "  }\n",
              "\n",
              "  .colab-df-quickchart-complete:disabled,\n",
              "  .colab-df-quickchart-complete:disabled:hover {\n",
              "    background-color: var(--disabled-bg-color);\n",
              "    fill: var(--disabled-fill-color);\n",
              "    box-shadow: none;\n",
              "  }\n",
              "\n",
              "  .colab-df-spinner {\n",
              "    border: 2px solid var(--fill-color);\n",
              "    border-color: transparent;\n",
              "    border-bottom-color: var(--fill-color);\n",
              "    animation:\n",
              "      spin 1s steps(1) infinite;\n",
              "  }\n",
              "\n",
              "  @keyframes spin {\n",
              "    0% {\n",
              "      border-color: transparent;\n",
              "      border-bottom-color: var(--fill-color);\n",
              "      border-left-color: var(--fill-color);\n",
              "    }\n",
              "    20% {\n",
              "      border-color: transparent;\n",
              "      border-left-color: var(--fill-color);\n",
              "      border-top-color: var(--fill-color);\n",
              "    }\n",
              "    30% {\n",
              "      border-color: transparent;\n",
              "      border-left-color: var(--fill-color);\n",
              "      border-top-color: var(--fill-color);\n",
              "      border-right-color: var(--fill-color);\n",
              "    }\n",
              "    40% {\n",
              "      border-color: transparent;\n",
              "      border-right-color: var(--fill-color);\n",
              "      border-top-color: var(--fill-color);\n",
              "    }\n",
              "    60% {\n",
              "      border-color: transparent;\n",
              "      border-right-color: var(--fill-color);\n",
              "    }\n",
              "    80% {\n",
              "      border-color: transparent;\n",
              "      border-right-color: var(--fill-color);\n",
              "      border-bottom-color: var(--fill-color);\n",
              "    }\n",
              "    90% {\n",
              "      border-color: transparent;\n",
              "      border-bottom-color: var(--fill-color);\n",
              "    }\n",
              "  }\n",
              "</style>\n",
              "\n",
              "  <script>\n",
              "    async function quickchart(key) {\n",
              "      const quickchartButtonEl =\n",
              "        document.querySelector('#' + key + ' button');\n",
              "      quickchartButtonEl.disabled = true;  // To prevent multiple clicks.\n",
              "      quickchartButtonEl.classList.add('colab-df-spinner');\n",
              "      try {\n",
              "        const charts = await google.colab.kernel.invokeFunction(\n",
              "            'suggestCharts', [key], {});\n",
              "      } catch (error) {\n",
              "        console.error('Error during call to suggestCharts:', error);\n",
              "      }\n",
              "      quickchartButtonEl.classList.remove('colab-df-spinner');\n",
              "      quickchartButtonEl.classList.add('colab-df-quickchart-complete');\n",
              "    }\n",
              "    (() => {\n",
              "      let quickchartButtonEl =\n",
              "        document.querySelector('#df-332cac0b-716e-4d23-8434-6ed711eaf139 button');\n",
              "      quickchartButtonEl.style.display =\n",
              "        google.colab.kernel.accessAllowed ? 'block' : 'none';\n",
              "    })();\n",
              "  </script>\n",
              "</div>\n",
              "\n",
              "    </div>\n",
              "  </div>\n"
            ],
            "application/vnd.google.colaboratory.intrinsic+json": {
              "type": "dataframe",
              "variable_name": "df_geral"
            }
          },
          "metadata": {},
          "execution_count": 12
        }
      ]
    },
    {
      "cell_type": "markdown",
      "source": [
        "###Verificação da correlação das variáveis"
      ],
      "metadata": {
        "id": "qFwaWBuCRJRU"
      }
    },
    {
      "cell_type": "code",
      "execution_count": null,
      "metadata": {
        "colab": {
          "base_uri": "https://localhost:8080/"
        },
        "id": "Rj1Q2I2ngKBt",
        "outputId": "19ef9ab1-1cc8-49c2-8e34-a05ea96e5353"
      },
      "outputs": [
        {
          "output_type": "stream",
          "name": "stdout",
          "text": [
            "                    feature       VIF\n",
            "0                 MASCULINO  3.242061\n",
            "1                     20_39  3.415592\n",
            "2                     40_59  2.881266\n",
            "3                       60+  1.960882\n",
            "4                NÃO_BRANCO  3.142147\n",
            "5          SEM_ESCOLARIDADE  1.218193\n",
            "6                  <=8_ANOS  2.624879\n",
            "7               PRISIONEIRO  1.297712\n",
            "8            MORADOR_DE_RUA  1.122114\n",
            "9     PROFISSIONAL_DA_SAUDE  1.055009\n",
            "10                IMIGRANTE  1.013750\n",
            "11             BENEFICIARIO  1.164369\n",
            "12          DROGAS_ILICITAS  1.757585\n",
            "13                   ALCOOL  1.604850\n",
            "14                   TABACO  1.839908\n",
            "15                 DIABETES  1.214604\n",
            "16                   MENTAL  1.043998\n",
            "17           OUTRAS_DOENCAS  1.198490\n",
            "18           EXTRA_PULMONAR  1.149450\n",
            "19  PULMONAR_EXTRA_PULMONAR  1.038055\n",
            "20             HIV_POSITIVO  1.133041\n",
            "21         HIV_EM_ANDAMENTO  1.003812\n",
            "22           SUPERVISIONADO  1.899330\n"
          ]
        }
      ],
      "source": [
        "### Verificando a correlação das variáveis usando variance inflation factor ####\n",
        "y = df_geral[\"ABANDONO\"]\n",
        "X = df_geral.drop(columns=[\"ABANDONO\"])\n",
        "\n",
        "vif_data = pd.DataFrame()\n",
        "vif_data[\"feature\"] = X.columns\n",
        "vif_data[\"VIF\"] = [variance_inflation_factor(X.values, i) for i in range(X.shape[1])]\n",
        "print(vif_data)"
      ]
    },
    {
      "cell_type": "markdown",
      "source": [
        "###Balanceamento dos dados\n"
      ],
      "metadata": {
        "id": "WGul5dkiTjED"
      }
    },
    {
      "cell_type": "code",
      "execution_count": null,
      "metadata": {
        "colab": {
          "base_uri": "https://localhost:8080/"
        },
        "id": "QUuybzTGqGgQ",
        "outputId": "e8467f1d-5658-4f09-87f4-b95383e64ecc"
      },
      "outputs": [
        {
          "output_type": "stream",
          "name": "stdout",
          "text": [
            "count    84.99\n",
            "dtype: float64\n",
            "count    15.01\n",
            "dtype: float64\n"
          ]
        }
      ],
      "source": [
        "## Verificando a proporção entre as variáveis ##\n",
        "df_t = y.value_counts().to_frame()\n",
        "print(round((df_t.iloc[0,0]/df_t.sum())*100,2))\n",
        "print(round((df_t.iloc[1,0]/df_t.sum())*100,2))"
      ]
    },
    {
      "cell_type": "code",
      "source": [
        "### Quantidade de pacientes que abandoram e não abandoram o tratamento ####\n",
        "y.value_counts()"
      ],
      "metadata": {
        "colab": {
          "base_uri": "https://localhost:8080/",
          "height": 178
        },
        "id": "T3pmNjiTxsOR",
        "outputId": "c279cd39-f189-4df8-82c2-20e24b7a0c6f"
      },
      "execution_count": null,
      "outputs": [
        {
          "output_type": "execute_result",
          "data": {
            "text/plain": [
              "ABANDONO\n",
              "0    67929\n",
              "1    12000\n",
              "Name: count, dtype: int64"
            ],
            "text/html": [
              "<div>\n",
              "<style scoped>\n",
              "    .dataframe tbody tr th:only-of-type {\n",
              "        vertical-align: middle;\n",
              "    }\n",
              "\n",
              "    .dataframe tbody tr th {\n",
              "        vertical-align: top;\n",
              "    }\n",
              "\n",
              "    .dataframe thead th {\n",
              "        text-align: right;\n",
              "    }\n",
              "</style>\n",
              "<table border=\"1\" class=\"dataframe\">\n",
              "  <thead>\n",
              "    <tr style=\"text-align: right;\">\n",
              "      <th></th>\n",
              "      <th>count</th>\n",
              "    </tr>\n",
              "    <tr>\n",
              "      <th>ABANDONO</th>\n",
              "      <th></th>\n",
              "    </tr>\n",
              "  </thead>\n",
              "  <tbody>\n",
              "    <tr>\n",
              "      <th>0</th>\n",
              "      <td>67929</td>\n",
              "    </tr>\n",
              "    <tr>\n",
              "      <th>1</th>\n",
              "      <td>12000</td>\n",
              "    </tr>\n",
              "  </tbody>\n",
              "</table>\n",
              "</div><br><label><b>dtype:</b> int64</label>"
            ]
          },
          "metadata": {},
          "execution_count": 15
        }
      ]
    },
    {
      "cell_type": "code",
      "execution_count": null,
      "metadata": {
        "colab": {
          "base_uri": "https://localhost:8080/",
          "height": 178
        },
        "id": "_n1Ut1M4qyhn",
        "outputId": "7a97d5ad-b316-4d4e-e457-520961ae0f41"
      },
      "outputs": [
        {
          "output_type": "execute_result",
          "data": {
            "text/plain": [
              "ABANDONO\n",
              "0    12000\n",
              "1    12000\n",
              "Name: count, dtype: int64"
            ],
            "text/html": [
              "<div>\n",
              "<style scoped>\n",
              "    .dataframe tbody tr th:only-of-type {\n",
              "        vertical-align: middle;\n",
              "    }\n",
              "\n",
              "    .dataframe tbody tr th {\n",
              "        vertical-align: top;\n",
              "    }\n",
              "\n",
              "    .dataframe thead th {\n",
              "        text-align: right;\n",
              "    }\n",
              "</style>\n",
              "<table border=\"1\" class=\"dataframe\">\n",
              "  <thead>\n",
              "    <tr style=\"text-align: right;\">\n",
              "      <th></th>\n",
              "      <th>count</th>\n",
              "    </tr>\n",
              "    <tr>\n",
              "      <th>ABANDONO</th>\n",
              "      <th></th>\n",
              "    </tr>\n",
              "  </thead>\n",
              "  <tbody>\n",
              "    <tr>\n",
              "      <th>0</th>\n",
              "      <td>12000</td>\n",
              "    </tr>\n",
              "    <tr>\n",
              "      <th>1</th>\n",
              "      <td>12000</td>\n",
              "    </tr>\n",
              "  </tbody>\n",
              "</table>\n",
              "</div><br><label><b>dtype:</b> int64</label>"
            ]
          },
          "metadata": {},
          "execution_count": 16
        }
      ],
      "source": [
        "## Equilibrando a variável resposta ##\n",
        "under_sampler = RandomUnderSampler(random_state=42)\n",
        "X_res, y_res = under_sampler.fit_resample(X, y)\n",
        "y_res.value_counts()"
      ]
    },
    {
      "cell_type": "markdown",
      "source": [
        "###Treinamento e Teste do modelo"
      ],
      "metadata": {
        "id": "GftktscFUK6i"
      }
    },
    {
      "cell_type": "code",
      "execution_count": null,
      "metadata": {
        "colab": {
          "base_uri": "https://localhost:8080/"
        },
        "id": "s9WWkHxD6QLA",
        "outputId": "dc522c63-7970-4162-8374-0da8118ad760"
      },
      "outputs": [
        {
          "output_type": "stream",
          "name": "stdout",
          "text": [
            "AIC: 20275.715886238722\n",
            "                           Logit Regression Results                           \n",
            "==============================================================================\n",
            "Dep. Variable:               ABANDONO   No. Observations:                16800\n",
            "Model:                          Logit   Df Residuals:                    16782\n",
            "Method:                           MLE   Df Model:                           17\n",
            "Date:                Mon, 07 Oct 2024   Pseudo R-squ.:                  0.1310\n",
            "Time:                        14:25:19   Log-Likelihood:                -10120.\n",
            "converged:                       True   LL-Null:                       -11645.\n",
            "Covariance Type:            nonrobust   LLR p-value:                     0.000\n",
            "=========================================================================================\n",
            "                            coef    std err          z      P>|z|      [0.025      0.975]\n",
            "-----------------------------------------------------------------------------------------\n",
            "MASCULINO                 0.2460      0.037      6.592      0.000       0.173       0.319\n",
            "20_39                    -0.1243      0.045     -2.762      0.006      -0.213      -0.036\n",
            "40_59                    -0.6262      0.052    -12.064      0.000      -0.728      -0.524\n",
            "60+                      -1.1921      0.071    -16.692      0.000      -1.332      -1.052\n",
            "NÃO_BRANCO                0.1063      0.036      2.965      0.003       0.036       0.177\n",
            "SEM_ESCOLARIDADE          0.2992      0.090      3.332      0.001       0.123       0.475\n",
            "<=8_ANOS                  0.3688      0.036     10.145      0.000       0.298       0.440\n",
            "PRISIONEIRO              -0.8395      0.065    -12.940      0.000      -0.967      -0.712\n",
            "MORADOR_DE_RUA            1.2675      0.104     12.205      0.000       1.064       1.471\n",
            "PROFISSIONAL_DA_SAUDE    -0.7953      0.171     -4.656      0.000      -1.130      -0.461\n",
            "DROGAS_ILICITAS           0.7736      0.050     15.497      0.000       0.676       0.871\n",
            "ALCOOL                    0.2475      0.047      5.226      0.000       0.155       0.340\n",
            "TABACO                    0.2924      0.042      6.882      0.000       0.209       0.376\n",
            "DIABETES                 -0.3670      0.068     -5.373      0.000      -0.501      -0.233\n",
            "OUTRAS_DOENCAS           -0.1168      0.056     -2.083      0.037      -0.227      -0.007\n",
            "EXTRA_PULMONAR           -0.4193      0.060     -7.027      0.000      -0.536      -0.302\n",
            "HIV_POSITIVO              0.5505      0.059      9.318      0.000       0.435       0.666\n",
            "SUPERVISIONADO           -0.8407      0.034    -24.581      0.000      -0.908      -0.774\n",
            "=========================================================================================\n"
          ]
        }
      ],
      "source": [
        "## Treinando o modelo e usando o backward holdout\n",
        "X_train, X_test, y_train, y_test = train_test_split(X_res, y_res, test_size=0.3, random_state=42)\n",
        "\n",
        "def backward_elimination(X, y, significance_level=0.05):\n",
        "    variables = list(X.columns)\n",
        "    while len(variables) > 0:\n",
        "        X_subset = X[variables]\n",
        "        model = sm.Logit(y, X_subset)\n",
        "        result = model.fit(disp=False)\n",
        "        p_values = result.pvalues\n",
        "        max_p_value = p_values.max()\n",
        "        if max_p_value > significance_level:\n",
        "            remove_var_name = p_values.idxmax()\n",
        "            if remove_var_name in variables:\n",
        "                variables.remove(remove_var_name)\n",
        "        else:\n",
        "            break\n",
        "\n",
        "    return variables, result\n",
        "\n",
        "selected_vars, result = backward_elimination(X_train, y_train)\n",
        "X_test_selected = X_test[selected_vars]\n",
        "y_pred = result.predict(X_test_selected)\n",
        "y_pred_binary = np.where(y_pred >0.5, 1, 0)\n",
        "print(f'AIC: {result.aic}')\n",
        "print(result.summary())"
      ]
    },
    {
      "cell_type": "code",
      "execution_count": null,
      "metadata": {
        "colab": {
          "base_uri": "https://localhost:8080/"
        },
        "id": "1tmH25DpUPpB",
        "outputId": "35cb2022-517d-4c30-81a6-756e32cd0285"
      },
      "outputs": [
        {
          "output_type": "stream",
          "name": "stdout",
          "text": [
            "                       Odds Ratio  CI Lower Bound  CI Upper Bound\n",
            "MORADOR_DE_RUA           3.551978        2.897799        4.353837\n",
            "DROGAS_ILICITAS          2.167484        1.965469        2.390262\n",
            "HIV_POSITIVO             1.734193        1.544555        1.947114\n",
            "<=8_ANOS                 1.445988        1.346544        1.552776\n",
            "SEM_ESCOLARIDADE         1.348805        1.131117        1.608387\n",
            "TABACO                   1.339609        1.232578        1.455933\n",
            "ALCOOL                   1.280779        1.167251        1.405348\n",
            "MASCULINO                1.278848        1.188659        1.375881\n",
            "NÃO_BRANCO               1.112119        1.036672        1.193058\n",
            "OUTRAS_DOENCAS           0.889744        0.797143        0.993104\n",
            "20_39                    0.883080        0.808509        0.964529\n",
            "DIABETES                 0.692827        0.606026        0.792059\n",
            "EXTRA_PULMONAR           0.657527        0.584957        0.739100\n",
            "40_59                    0.534613        0.482897        0.591867\n",
            "PROFISSIONAL_DA_SAUDE    0.451424        0.322983        0.630944\n",
            "PRISIONEIRO              0.431917        0.380346        0.490482\n",
            "SUPERVISIONADO           0.431417        0.403446        0.461326\n",
            "60+                      0.303586        0.263931        0.349198\n"
          ]
        }
      ],
      "source": [
        "## Verificando o OR value\n",
        "coefficients = result.params\n",
        "conf_int = result.conf_int(alpha=0.05)\n",
        "\n",
        "odds_ratios = np.exp(coefficients)\n",
        "conf_int_odds_ratios = np.exp(conf_int)\n",
        "\n",
        "odds_ratios_df = pd.DataFrame({\n",
        "    'Odds Ratio': odds_ratios,\n",
        "    'CI Lower Bound': conf_int_odds_ratios[0],\n",
        "    'CI Upper Bound': conf_int_odds_ratios[1]\n",
        "}, index=selected_vars)\n",
        "\n",
        "print(odds_ratios_df.sort_values(by='Odds Ratio', ascending=False))"
      ]
    },
    {
      "cell_type": "code",
      "execution_count": 32,
      "metadata": {
        "colab": {
          "base_uri": "https://localhost:8080/",
          "height": 568
        },
        "id": "HKOFf5jDW0ss",
        "outputId": "8b4cd7f3-d9ba-4f7d-92cc-9003b90c7d48"
      },
      "outputs": [
        {
          "output_type": "execute_result",
          "data": {
            "text/plain": [
              "Text(0.5, 427.9555555555555, 'Predito')"
            ]
          },
          "metadata": {},
          "execution_count": 32
        },
        {
          "output_type": "display_data",
          "data": {
            "text/plain": [
              "<Figure size 640x480 with 2 Axes>"
            ],
            "image/png": "[encoded data removed]"
          },
          "metadata": {}
        }
      ],
      "source": [
        "cnf_matrix = confusion_matrix(y_test, y_pred_binary)\n",
        "\n",
        "class_names=[0,1]\n",
        "fig, ax = plt.subplots()\n",
        "tick_marks = np.arange(len(class_names))\n",
        "plt.xticks(tick_marks, class_names)\n",
        "plt.yticks(tick_marks, class_names)\n",
        "sns.heatmap(pd.DataFrame(cnf_matrix), annot=True, cmap=\"YlGnBu\" ,fmt='g')\n",
        "ax.xaxis.set_label_position(\"top\")\n",
        "plt.tight_layout()\n",
        "plt.title('Matrix de Confusão', y=1.1)\n",
        "plt.ylabel('Real')\n",
        "plt.xlabel('Predito')"
      ]
    },
    {
      "cell_type": "markdown",
      "source": [
        "###Curva ROC"
      ],
      "metadata": {
        "id": "HsTFeLUhe7g5"
      }
    },
    {
      "cell_type": "code",
      "execution_count": 26,
      "metadata": {
        "colab": {
          "base_uri": "https://localhost:8080/",
          "height": 493
        },
        "id": "W7CaJwfGW62W",
        "outputId": "ba4e50f6-0baf-4a33-967d-b8be193420a3"
      },
      "outputs": [
        {
          "output_type": "stream",
          "name": "stdout",
          "text": [
            "0.5069388682809467\n"
          ]
        },
        {
          "output_type": "display_data",
          "data": {
            "text/plain": [
              "<Figure size 640x480 with 1 Axes>"
            ],
            "image/png": "[encoded data removed]"
          },
          "metadata": {}
        }
      ],
      "source": [
        "## Verificando a sensibilidade do modelo\n",
        "fpr, tpr, thresholds  = metrics.roc_curve(y_test,  y_pred)\n",
        "auc = metrics.roc_auc_score(y_test, y_pred)\n",
        "optimal_idx_roc = np.argmax(tpr - fpr)\n",
        "optimal_threshold_roc = thresholds[optimal_idx_roc]\n",
        "print(optimal_threshold_roc)\n",
        "\n",
        "\n",
        "plt.clf()\n",
        "plt.grid(True)\n",
        "plt.plot([0,1], [0,1], '-', color='black', lw=2)\n",
        "plt.plot(fpr, tpr, '-', color='blue', lw=2)\n",
        "plt.xlabel(\"1 - Especificidade\", size=12)\n",
        "plt.ylabel(\"Sensibilidade\", size=12)\n",
        "plt.title(\"AUC=%.2f\" % auc)\n",
        "plt.show()"
      ]
    },
    {
      "cell_type": "code",
      "execution_count": 33,
      "metadata": {
        "colab": {
          "base_uri": "https://localhost:8080/"
        },
        "id": "jFm8HE1OhPyc",
        "outputId": "a295753b-e5b9-4e12-a990-269a0b97acf5"
      },
      "outputs": [
        {
          "output_type": "stream",
          "name": "stdout",
          "text": [
            "              precision    recall  f1-score   support\n",
            "\n",
            "NÃO_ABANDONO       0.65      0.68      0.67      3568\n",
            "    ABANDONO       0.67      0.65      0.66      3632\n",
            "\n",
            "    accuracy                           0.66      7200\n",
            "   macro avg       0.66      0.66      0.66      7200\n",
            "weighted avg       0.66      0.66      0.66      7200\n",
            "\n"
          ]
        }
      ],
      "source": [
        "target_names = ['NÃO_ABANDONO', 'ABANDONO']\n",
        "print(classification_report(y_test, y_pred_binary, target_names=target_names))"
      ]
    }
  ],
  "metadata": {
    "colab": {
      "provenance": [],
      "include_colab_link": true
    },
    "kernelspec": {
      "display_name": "Python 3",
      "name": "python3"
    },
    "language_info": {
      "name": "python"
    }
  },
  "nbformat": 4,
  "nbformat_minor": 0
}